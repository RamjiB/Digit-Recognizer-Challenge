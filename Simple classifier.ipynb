{
 "cells": [
  {
   "cell_type": "code",
   "execution_count": 1,
   "metadata": {},
   "outputs": [],
   "source": [
    "import warnings\n",
    "warnings.filterwarnings('ignore')\n",
    "\n",
    "import pandas as pd\n",
    "import numpy as np\n",
    "import matplotlib.pyplot as plt\n",
    "import seaborn as sb\n",
    "\n",
    "from sklearn.ensemble import RandomForestRegressor,RandomForestClassifier\n",
    "from sklearn.svm import SVC\n",
    "from sklearn.decomposition import PCA\n",
    "from sklearn.neighbors import KNeighborsClassifier\n"
   ]
  },
  {
   "cell_type": "code",
   "execution_count": 31,
   "metadata": {},
   "outputs": [],
   "source": [
    "PATH ='dataset/'"
   ]
  },
  {
   "cell_type": "code",
   "execution_count": 32,
   "metadata": {},
   "outputs": [],
   "source": [
    "train = pd.read_csv(f'{PATH}train.csv')\n",
    "test = pd.read_csv(f'{PATH}test.csv')"
   ]
  },
  {
   "cell_type": "markdown",
   "metadata": {},
   "source": [
    "## fuction for splitting the valid and train dataset from total train images"
   ]
  },
  {
   "cell_type": "markdown",
   "metadata": {},
   "source": [
    "This is basically done to check for overfitting of the training images."
   ]
  },
  {
   "cell_type": "code",
   "execution_count": 33,
   "metadata": {},
   "outputs": [],
   "source": [
    "def split_data(tr_data,n):\n",
    "    return tr_data.iloc[:len(tr_data)-n],tr_data.iloc[len(tr_data)-n:]"
   ]
  },
  {
   "cell_type": "markdown",
   "metadata": {},
   "source": [
    "### Drop the label from the train data frame"
   ]
  },
  {
   "cell_type": "code",
   "execution_count": 34,
   "metadata": {},
   "outputs": [],
   "source": [
    "label = train['label']\n",
    "train = train.drop('label',1)"
   ]
  },
  {
   "cell_type": "markdown",
   "metadata": {},
   "source": [
    "### Split the dataset for training and validation with same size as test"
   ]
  },
  {
   "cell_type": "code",
   "execution_count": 6,
   "metadata": {},
   "outputs": [],
   "source": [
    "n = len(test)\n",
    "X_train,X_valid = split_data(train,n)\n",
    "Y_train,Y_valid = split_data(label,n)"
   ]
  },
  {
   "cell_type": "code",
   "execution_count": 8,
   "metadata": {},
   "outputs": [
    {
     "data": {
      "text/plain": [
       "(14000, 784)"
      ]
     },
     "execution_count": 8,
     "metadata": {},
     "output_type": "execute_result"
    }
   ],
   "source": [
    "X_train.shape"
   ]
  },
  {
   "cell_type": "markdown",
   "metadata": {},
   "source": [
    "### Visualize the data"
   ]
  },
  {
   "cell_type": "code",
   "execution_count": 7,
   "metadata": {},
   "outputs": [
    {
     "data": {
      "image/png": "[encoded data removed]",
      "text/plain": [
       "<Figure size 432x288 with 1 Axes>"
      ]
     },
     "metadata": {
      "needs_background": "light"
     },
     "output_type": "display_data"
    }
   ],
   "source": [
    "img_no = 10\n",
    "img = X_train.iloc[img_no].values.reshape(28,28)\n",
    "plt.imshow(img,cmap='gray')\n",
    "plt.axis('off')\n",
    "plt.title(Y_train.iloc[img_no])\n",
    "plt.show()"
   ]
  },
  {
   "cell_type": "markdown",
   "metadata": {},
   "source": [
    "### Random Forest Regressor:"
   ]
  },
  {
   "cell_type": "code",
   "execution_count": null,
   "metadata": {},
   "outputs": [],
   "source": [
    "n_ests = [1,5,10,25,50,100,500]\n",
    "result = []\n",
    "for n in n_ests:\n",
    "    RF_model = RandomForestRegressor(n_estimators=n,criterion='mse')\n",
    "    RF_model.fit(X_train,Y_train)\n",
    "    result.append(RF_model.score(X_valid,Y_valid))"
   ]
  },
  {
   "cell_type": "markdown",
   "metadata": {},
   "source": [
    "### plot for different values of estimators"
   ]
  },
  {
   "cell_type": "code",
   "execution_count": 10,
   "metadata": {},
   "outputs": [
    {
     "data": {
      "image/png": "[encoded data removed]",
      "text/plain": [
       "<Figure size 432x288 with 1 Axes>"
      ]
     },
     "metadata": {
      "needs_background": "light"
     },
     "output_type": "display_data"
    }
   ],
   "source": [
    "plt.plot(n_ests,result)\n",
    "plt.xlabel('no. of estimators')\n",
    "plt.ylabel('accuracy')\n",
    "plt.show()"
   ]
  },
  {
   "cell_type": "code",
   "execution_count": 11,
   "metadata": {},
   "outputs": [
    {
     "data": {
      "text/plain": [
       "[0.5992193675459274,\n",
       " 0.8042443734770806,\n",
       " 0.829918518808128,\n",
       " 0.8452424832618076,\n",
       " 0.8465956113143637,\n",
       " 0.8507187464907648,\n",
       " 0.8531992126110474]"
      ]
     },
     "execution_count": 11,
     "metadata": {},
     "output_type": "execute_result"
    }
   ],
   "source": [
    "result"
   ]
  },
  {
   "cell_type": "markdown",
   "metadata": {},
   "source": [
    "### Save the result"
   ]
  },
  {
   "cell_type": "code",
   "execution_count": 12,
   "metadata": {},
   "outputs": [],
   "source": [
    "results = np.floor(np.array(RF_model.predict(test))).astype(int)"
   ]
  },
  {
   "cell_type": "code",
   "execution_count": 16,
   "metadata": {},
   "outputs": [],
   "source": [
    "np.savetxt('results.csv',\n",
    "          np.c_[range(1,len(test) + 1),results],\n",
    "          delimiter=',',\n",
    "            header='ImageId,Label',\n",
    "           comments='',\n",
    "          fmt='%d')"
   ]
  },
  {
   "cell_type": "markdown",
   "metadata": {},
   "source": [
    "#### Kaggle Accuracy : 48.5"
   ]
  },
  {
   "cell_type": "markdown",
   "metadata": {},
   "source": [
    "### Random forest with few more parameters:"
   ]
  },
  {
   "cell_type": "code",
   "execution_count": 18,
   "metadata": {},
   "outputs": [],
   "source": [
    "m_f = ['sqrt','log2']\n",
    "result = []\n",
    "for f in m_f:\n",
    "    Rf_model = RandomForestRegressor(n_estimators=500,criterion='mse',max_features=f)\n",
    "    Rf_model.fit(X_train,Y_train)\n",
    "    result.append(Rf_model.score(X_valid,Y_valid))"
   ]
  },
  {
   "cell_type": "markdown",
   "metadata": {},
   "source": [
    "### Increasing the size of training data"
   ]
  },
  {
   "cell_type": "code",
   "execution_count": 9,
   "metadata": {},
   "outputs": [],
   "source": [
    "n = 12000\n",
    "X_train,X_valid = split_data(train,n)\n",
    "Y_train,Y_valid = split_data(label,n)"
   ]
  },
  {
   "cell_type": "code",
   "execution_count": 19,
   "metadata": {},
   "outputs": [
    {
     "data": {
      "text/plain": [
       "0.8837488927255566"
      ]
     },
     "execution_count": 19,
     "metadata": {},
     "output_type": "execute_result"
    }
   ],
   "source": [
    "Rf_model = RandomForestRegressor(n_estimators=500,criterion='mse',max_features='sqrt')\n",
    "Rf_model.fit(X_train,Y_train)\n",
    "Rf_model.score(X_valid,Y_valid)"
   ]
  },
  {
   "cell_type": "code",
   "execution_count": 12,
   "metadata": {},
   "outputs": [],
   "source": [
    "results = np.floor(np.array(Rf_model.predict(test))).astype(int)"
   ]
  },
  {
   "cell_type": "code",
   "execution_count": 13,
   "metadata": {},
   "outputs": [],
   "source": [
    "np.savetxt('result_88.csv',\n",
    "          np.c_[range(1,len(test) + 1),results],\n",
    "          delimiter=',',\n",
    "            header='ImageId,Label',\n",
    "           comments='',\n",
    "          fmt='%d')"
   ]
  },
  {
   "cell_type": "markdown",
   "metadata": {},
   "source": [
    "#### Kaggle Accuracy : 48.414"
   ]
  },
  {
   "cell_type": "code",
   "execution_count": 15,
   "metadata": {},
   "outputs": [
    {
     "data": {
      "text/plain": [
       "0.8819322517612671"
      ]
     },
     "execution_count": 15,
     "metadata": {},
     "output_type": "execute_result"
    }
   ],
   "source": [
    "Rf_model = RandomForestRegressor(n_estimators=100,criterion='mse',max_features='sqrt',oob_score=True)\n",
    "Rf_model.fit(X_train,Y_train)\n",
    "Rf_model.score(X_valid,Y_valid)"
   ]
  },
  {
   "cell_type": "markdown",
   "metadata": {},
   "source": [
    "### RF Classifier"
   ]
  },
  {
   "cell_type": "code",
   "execution_count": 8,
   "metadata": {},
   "outputs": [
    {
     "data": {
      "text/plain": [
       "0.9551785714285714"
      ]
     },
     "execution_count": 8,
     "metadata": {},
     "output_type": "execute_result"
    }
   ],
   "source": [
    "RF_wo_split = RandomForestClassifier(n_estimators =100,max_features='sqrt',n_jobs=1)\n",
    "RF_wo_split.fit(X_train,Y_train)\n",
    "RF_wo_split.score(X_valid,Y_valid)"
   ]
  },
  {
   "cell_type": "code",
   "execution_count": 10,
   "metadata": {},
   "outputs": [
    {
     "data": {
      "text/plain": [
       "0.9655833333333333"
      ]
     },
     "execution_count": 10,
     "metadata": {},
     "output_type": "execute_result"
    }
   ],
   "source": [
    "RF_wo_split_12 = RandomForestClassifier(n_estimators =100,max_features='sqrt',n_jobs=1)\n",
    "RF_wo_split_12.fit(X_train,Y_train)\n",
    "RF_wo_split_12.score(X_valid,Y_valid)"
   ]
  },
  {
   "cell_type": "code",
   "execution_count": 17,
   "metadata": {},
   "outputs": [],
   "source": [
    "feature_imp = pd.Series(RF_wo_split_12.feature_importances_,index=train.columns.values).sort_values(ascending=False)"
   ]
  },
  {
   "cell_type": "code",
   "execution_count": 31,
   "metadata": {},
   "outputs": [
    {
     "data": {
      "image/png": "[encoded data removed]",
      "text/plain": [
       "<Figure size 432x288 with 1 Axes>"
      ]
     },
     "metadata": {
      "needs_background": "light"
     },
     "output_type": "display_data"
    }
   ],
   "source": [
    "sb.barplot(x=feature_imp[0:301],y=feature_imp.index[0:301])\n",
    "plt.xlabel('Feature Importance Score')\n",
    "plt.ylabel('Features')\n",
    "plt.title(\"Visualizing Important Features\")\n",
    "plt.show()"
   ]
  },
  {
   "cell_type": "markdown",
   "metadata": {},
   "source": [
    "### take only top 300 features for training"
   ]
  },
  {
   "cell_type": "code",
   "execution_count": 44,
   "metadata": {},
   "outputs": [],
   "source": [
    "imp_fea = feature_imp.index[0:301]"
   ]
  },
  {
   "cell_type": "code",
   "execution_count": 45,
   "metadata": {},
   "outputs": [],
   "source": [
    "train_imp = train[imp_fea]"
   ]
  },
  {
   "cell_type": "code",
   "execution_count": 46,
   "metadata": {},
   "outputs": [],
   "source": [
    "n = 12000\n",
    "X_train,X_valid = split_data(train_imp,n)\n",
    "Y_train,Y_valid = split_data(label,n)"
   ]
  },
  {
   "cell_type": "code",
   "execution_count": 47,
   "metadata": {},
   "outputs": [
    {
     "data": {
      "text/plain": [
       "0.9643333333333334"
      ]
     },
     "execution_count": 47,
     "metadata": {},
     "output_type": "execute_result"
    }
   ],
   "source": [
    "RF_wo_split_12imp = RandomForestClassifier(n_estimators =100,max_features='sqrt',n_jobs=1)\n",
    "RF_wo_split_12imp.fit(X_train,Y_train)\n",
    "RF_wo_split_12imp.score(X_valid,Y_valid)"
   ]
  },
  {
   "cell_type": "code",
   "execution_count": 48,
   "metadata": {},
   "outputs": [],
   "source": [
    "n = len(test)\n",
    "X_train,X_valid = split_data(train_imp,n)\n",
    "Y_train,Y_valid = split_data(label,n)"
   ]
  },
  {
   "cell_type": "code",
   "execution_count": null,
   "metadata": {},
   "outputs": [],
   "source": [
    "RF_wo_split_12impt = RandomForestClassifier(n_estimators =100,max_features='sqrt',n_jobs=1)\n",
    "RF_wo_split_12impt.fit(X_train,Y_train)\n",
    "RF_wo_split_12impt.score(X_valid,Y_valid)"
   ]
  },
  {
   "cell_type": "code",
   "execution_count": 8,
   "metadata": {},
   "outputs": [],
   "source": [
    "results = np.floor(np.array(RF_wo_split.predict(test))).astype(int)"
   ]
  },
  {
   "cell_type": "code",
   "execution_count": null,
   "metadata": {},
   "outputs": [],
   "source": [
    "np.savetxt('result_RFC.csv',\n",
    "          np.c_[range(1,len(test) + 1),results],\n",
    "          delimiter=',',\n",
    "            header='ImageId,Label',\n",
    "           comments='',\n",
    "          fmt='%d')"
   ]
  },
  {
   "cell_type": "markdown",
   "metadata": {},
   "source": [
    "#### Kaggle Accuracy : 95.228"
   ]
  },
  {
   "cell_type": "markdown",
   "metadata": {},
   "source": [
    "### SVC"
   ]
  },
  {
   "cell_type": "code",
   "execution_count": 7,
   "metadata": {},
   "outputs": [
    {
     "name": "stderr",
     "output_type": "stream",
     "text": [
      "/home/paperspace/anaconda3/envs/fastai/lib/python3.6/site-packages/sklearn/svm/base.py:196: FutureWarning: The default value of gamma will change from 'auto' to 'scale' in version 0.22 to account better for unscaled features. Set gamma explicitly to 'auto' or 'scale' to avoid this warning.\n",
      "  \"avoid this warning.\", FutureWarning)\n"
     ]
    },
    {
     "data": {
      "text/plain": [
       "0.11103571428571428"
      ]
     },
     "execution_count": 7,
     "metadata": {},
     "output_type": "execute_result"
    }
   ],
   "source": [
    "SV_Class = SVC()\n",
    "SV_Class.fit(X_train,Y_train)\n",
    "SV_Class.score(X_valid,Y_valid)x"
   ]
  },
  {
   "cell_type": "code",
   "execution_count": 7,
   "metadata": {},
   "outputs": [],
   "source": [
    "PCA_a = PCA(n_components=50)\n",
    "PCA_a.fit(X_train)\n",
    "tr_X_tr = PCA_a.transform(X_train)\n",
    "tr_X_va = PCA_a.transform(X_valid)\n",
    "tr_X_test = PCA_a.transform(test)"
   ]
  },
  {
   "cell_type": "code",
   "execution_count": 8,
   "metadata": {},
   "outputs": [
    {
     "data": {
      "text/plain": [
       "0.936"
      ]
     },
     "execution_count": 8,
     "metadata": {},
     "output_type": "execute_result"
    }
   ],
   "source": [
    "RF_wo_split = RandomForestClassifier(n_estimators =100,max_features='sqrt',n_jobs=1)\n",
    "RF_wo_split.fit(tr_X_tr,Y_train)\n",
    "RF_wo_split.score(tr_X_va,Y_valid)"
   ]
  },
  {
   "cell_type": "code",
   "execution_count": 12,
   "metadata": {},
   "outputs": [
    {
     "name": "stderr",
     "output_type": "stream",
     "text": [
      "/home/paperspace/anaconda3/envs/fastai/lib/python3.6/site-packages/sklearn/svm/base.py:196: FutureWarning: The default value of gamma will change from 'auto' to 'scale' in version 0.22 to account better for unscaled features. Set gamma explicitly to 'auto' or 'scale' to avoid this warning.\n",
      "  \"avoid this warning.\", FutureWarning)\n"
     ]
    },
    {
     "data": {
      "text/plain": [
       "0.11103571428571428"
      ]
     },
     "execution_count": 12,
     "metadata": {},
     "output_type": "execute_result"
    }
   ],
   "source": [
    "SV_Class = SVC()\n",
    "SV_Class.fit(tr_X_tr,Y_train)\n",
    "SV_Class.score(tr_X_va,Y_valid)"
   ]
  },
  {
   "cell_type": "code",
   "execution_count": 9,
   "metadata": {},
   "outputs": [],
   "source": [
    "result = []\n",
    "nn = [1,2,3,4,5,10,15,20]\n",
    "for n in nn:\n",
    "    KN_C = KNeighborsClassifier(n_jobs=1,n_neighbors=n);\n",
    "    KN_C.fit(tr_X_tr,Y_train)\n",
    "    result.append(KN_C.score(tr_X_va,Y_valid))"
   ]
  },
  {
   "cell_type": "code",
   "execution_count": 10,
   "metadata": {},
   "outputs": [
    {
     "data": {
      "image/png": "[encoded data removed]",
      "text/plain": [
       "<Figure size 432x288 with 1 Axes>"
      ]
     },
     "metadata": {
      "needs_background": "light"
     },
     "output_type": "display_data"
    }
   ],
   "source": [
    "plt.plot(nn,result)\n",
    "plt.xlabel('no. of neighbours')\n",
    "plt.ylabel('accuracy')\n",
    "plt.show()"
   ]
  },
  {
   "cell_type": "code",
   "execution_count": 12,
   "metadata": {},
   "outputs": [],
   "source": [
    "KN_C = KNeighborsClassifier(n_jobs=1,n_neighbors=1);\n",
    "KN_C.fit(tr_X_tr,Y_train)\n",
    "result.append(KN_C.score(tr_X_va,Y_valid))"
   ]
  },
  {
   "cell_type": "code",
   "execution_count": 13,
   "metadata": {},
   "outputs": [],
   "source": [
    "results = RF_wo_split.predict(tr_X_test)"
   ]
  },
  {
   "cell_type": "code",
   "execution_count": 14,
   "metadata": {},
   "outputs": [
    {
     "data": {
      "text/plain": [
       "(28000,)"
      ]
     },
     "execution_count": 14,
     "metadata": {},
     "output_type": "execute_result"
    }
   ],
   "source": [
    "results.shape"
   ]
  },
  {
   "cell_type": "code",
   "execution_count": 15,
   "metadata": {},
   "outputs": [],
   "source": [
    "np.savetxt('result_PC_.csv',\n",
    "          np.c_[range(1,len(test) + 1),results],\n",
    "          delimiter=',',\n",
    "            header='ImageId,Label',\n",
    "           comments='',\n",
    "          fmt='%d')"
   ]
  },
  {
   "cell_type": "markdown",
   "metadata": {},
   "source": [
    "#### Kaggle Accuracy : 93.5"
   ]
  },
  {
   "cell_type": "markdown",
   "metadata": {},
   "source": [
    "## Deep Learning"
   ]
  },
  {
   "cell_type": "code",
   "execution_count": 35,
   "metadata": {},
   "outputs": [],
   "source": [
    "import keras\n",
    "from keras.models import Sequential,model_from_json\n",
    "from keras.layers import Dense\n",
    "from keras.optimizers import RMSprop"
   ]
  },
  {
   "cell_type": "code",
   "execution_count": 36,
   "metadata": {},
   "outputs": [],
   "source": [
    "num_classes = 10\n"
   ]
  },
  {
   "cell_type": "code",
   "execution_count": 37,
   "metadata": {},
   "outputs": [],
   "source": [
    "n = 12800\n",
    "X_train,X_valid = split_data(train,n)\n",
    "Y_train,Y_valid = split_data(label,n)\n",
    "\n",
    "\n",
    "\n",
    "#one hot encoding\n",
    "label1 = keras.utils.to_categorical(label, num_classes)\n",
    "Y_train = keras.utils.to_categorical(Y_train, num_classes)\n",
    "Y_valid = keras.utils.to_categorical(Y_valid, num_classes)"
   ]
  },
  {
   "cell_type": "code",
   "execution_count": null,
   "metadata": {},
   "outputs": [],
   "source": [
    "#Normalization\n",
    "X_train /= 255\n",
    "X_valid /=255\n",
    "test /=255"
   ]
  },
  {
   "cell_type": "code",
   "execution_count": 10,
   "metadata": {},
   "outputs": [
    {
     "name": "stdout",
     "output_type": "stream",
     "text": [
      "_________________________________________________________________\n",
      "Layer (type)                 Output Shape              Param #   \n",
      "=================================================================\n",
      "dense_1 (Dense)              (None, 144)               113040    \n",
      "_________________________________________________________________\n",
      "dense_2 (Dense)              (None, 64)                9280      \n",
      "_________________________________________________________________\n",
      "dense_3 (Dense)              (None, 32)                2080      \n",
      "_________________________________________________________________\n",
      "dense_4 (Dense)              (None, 32)                1056      \n",
      "_________________________________________________________________\n",
      "dense_5 (Dense)              (None, 10)                330       \n",
      "=================================================================\n",
      "Total params: 125,786\n",
      "Trainable params: 125,786\n",
      "Non-trainable params: 0\n",
      "_________________________________________________________________\n"
     ]
    }
   ],
   "source": [
    "first_layer_size = 144\n",
    "model = Sequential()\n",
    "model.add(Dense(first_layer_size, activation='relu', input_shape=(784,)))\n",
    "model.add(Dense(64, activation='relu'))\n",
    "model.add(Dense(32, activation='relu'))\n",
    "model.add(Dense(32, activation='relu'))\n",
    "model.add(Dense(num_classes, activation='softmax'))\n",
    "\n",
    "model.summary()"
   ]
  },
  {
   "cell_type": "markdown",
   "metadata": {},
   "source": [
    "### Compiling a Model"
   ]
  },
  {
   "cell_type": "code",
   "execution_count": 11,
   "metadata": {},
   "outputs": [],
   "source": [
    "model.compile(loss='categorical_crossentropy',\n",
    "              optimizer=RMSprop(),\n",
    "              metrics=['accuracy'])"
   ]
  },
  {
   "cell_type": "markdown",
   "metadata": {},
   "source": [
    "### Training"
   ]
  },
  {
   "cell_type": "code",
   "execution_count": 12,
   "metadata": {},
   "outputs": [
    {
     "name": "stdout",
     "output_type": "stream",
     "text": [
      "Epoch 1/200\n",
      "37000/37000 [==============================] - 3s 82us/step - loss: 0.4577 - acc: 0.8665\n",
      "Epoch 2/200\n",
      "37000/37000 [==============================] - 3s 76us/step - loss: 0.1752 - acc: 0.9476\n",
      "Epoch 3/200\n",
      "37000/37000 [==============================] - 3s 75us/step - loss: 0.1213 - acc: 0.9635\n",
      "Epoch 4/200\n",
      "37000/37000 [==============================] - 3s 77us/step - loss: 0.0932 - acc: 0.9718\n",
      "Epoch 5/200\n",
      "37000/37000 [==============================] - 3s 78us/step - loss: 0.0742 - acc: 0.9765\n",
      "Epoch 6/200\n",
      "37000/37000 [==============================] - 3s 80us/step - loss: 0.0602 - acc: 0.9820\n",
      "Epoch 7/200\n",
      "37000/37000 [==============================] - 3s 74us/step - loss: 0.0485 - acc: 0.9848\n",
      "Epoch 8/200\n",
      "37000/37000 [==============================] - 3s 74us/step - loss: 0.0395 - acc: 0.9880\n",
      "Epoch 9/200\n",
      "37000/37000 [==============================] - 3s 75us/step - loss: 0.0322 - acc: 0.9896\n",
      "Epoch 10/200\n",
      "37000/37000 [==============================] - 3s 77us/step - loss: 0.0275 - acc: 0.9913\n",
      "Epoch 11/200\n",
      "37000/37000 [==============================] - 3s 77us/step - loss: 0.0231 - acc: 0.9930\n",
      "Epoch 12/200\n",
      "37000/37000 [==============================] - 3s 74us/step - loss: 0.0183 - acc: 0.9937\n",
      "Epoch 13/200\n",
      "37000/37000 [==============================] - 3s 78us/step - loss: 0.0175 - acc: 0.9946\n",
      "Epoch 14/200\n",
      "37000/37000 [==============================] - 3s 78us/step - loss: 0.0154 - acc: 0.9951\n",
      "Epoch 15/200\n",
      "37000/37000 [==============================] - 3s 80us/step - loss: 0.0114 - acc: 0.9967\n",
      "Epoch 16/200\n",
      "37000/37000 [==============================] - 3s 77us/step - loss: 0.0110 - acc: 0.9964\n",
      "Epoch 17/200\n",
      "37000/37000 [==============================] - 3s 78us/step - loss: 0.0088 - acc: 0.9972\n",
      "Epoch 18/200\n",
      "37000/37000 [==============================] - 3s 70us/step - loss: 0.0087 - acc: 0.9973\n",
      "Epoch 19/200\n",
      "37000/37000 [==============================] - 3s 73us/step - loss: 0.0087 - acc: 0.9972\n",
      "Epoch 20/200\n",
      "37000/37000 [==============================] - 3s 76us/step - loss: 0.0072 - acc: 0.9977\n",
      "Epoch 21/200\n",
      "37000/37000 [==============================] - 3s 76us/step - loss: 0.0073 - acc: 0.9980\n",
      "Epoch 22/200\n",
      "37000/37000 [==============================] - 3s 73us/step - loss: 0.0064 - acc: 0.9983\n",
      "Epoch 23/200\n",
      "37000/37000 [==============================] - 3s 74us/step - loss: 0.0065 - acc: 0.9979\n",
      "Epoch 24/200\n",
      "37000/37000 [==============================] - 3s 79us/step - loss: 0.0056 - acc: 0.9985\n",
      "Epoch 25/200\n",
      "37000/37000 [==============================] - 3s 75us/step - loss: 0.0067 - acc: 0.9981\n",
      "Epoch 26/200\n",
      "37000/37000 [==============================] - 3s 73us/step - loss: 0.0047 - acc: 0.9984\n",
      "Epoch 27/200\n",
      "37000/37000 [==============================] - 3s 77us/step - loss: 0.0057 - acc: 0.9984\n",
      "Epoch 28/200\n",
      "37000/37000 [==============================] - 3s 74us/step - loss: 0.0050 - acc: 0.9989\n",
      "Epoch 29/200\n",
      "37000/37000 [==============================] - 3s 80us/step - loss: 0.0051 - acc: 0.9981\n",
      "Epoch 30/200\n",
      "37000/37000 [==============================] - 3s 76us/step - loss: 0.0044 - acc: 0.9989\n",
      "Epoch 31/200\n",
      "37000/37000 [==============================] - 3s 76us/step - loss: 0.0058 - acc: 0.9986\n",
      "Epoch 32/200\n",
      "37000/37000 [==============================] - 3s 71us/step - loss: 0.0047 - acc: 0.9987\n",
      "Epoch 33/200\n",
      "37000/37000 [==============================] - 3s 74us/step - loss: 0.0041 - acc: 0.9990\n",
      "Epoch 34/200\n",
      "37000/37000 [==============================] - 3s 80us/step - loss: 0.0039 - acc: 0.9986\n",
      "Epoch 35/200\n",
      "37000/37000 [==============================] - 3s 76us/step - loss: 0.0043 - acc: 0.9990\n",
      "Epoch 36/200\n",
      "37000/37000 [==============================] - 3s 76us/step - loss: 0.0027 - acc: 0.9992\n",
      "Epoch 37/200\n",
      "37000/37000 [==============================] - 3s 76us/step - loss: 0.0036 - acc: 0.9990\n",
      "Epoch 38/200\n",
      "37000/37000 [==============================] - 3s 75us/step - loss: 0.0039 - acc: 0.9992\n",
      "Epoch 39/200\n",
      "37000/37000 [==============================] - 3s 75us/step - loss: 0.0054 - acc: 0.9988\n",
      "Epoch 40/200\n",
      "37000/37000 [==============================] - 3s 74us/step - loss: 0.0041 - acc: 0.9991\n",
      "Epoch 41/200\n",
      "37000/37000 [==============================] - 3s 76us/step - loss: 0.0038 - acc: 0.9991\n",
      "Epoch 42/200\n",
      "37000/37000 [==============================] - 3s 78us/step - loss: 0.0037 - acc: 0.9992\n",
      "Epoch 43/200\n",
      "37000/37000 [==============================] - 3s 76us/step - loss: 0.0036 - acc: 0.9991\n",
      "Epoch 44/200\n",
      "37000/37000 [==============================] - 3s 77us/step - loss: 0.0034 - acc: 0.9989\n",
      "Epoch 45/200\n",
      "37000/37000 [==============================] - 3s 74us/step - loss: 0.0033 - acc: 0.9993\n",
      "Epoch 46/200\n",
      "37000/37000 [==============================] - 3s 77us/step - loss: 0.0036 - acc: 0.9990\n",
      "Epoch 47/200\n",
      "37000/37000 [==============================] - 3s 75us/step - loss: 0.0033 - acc: 0.9992\n",
      "Epoch 48/200\n",
      "37000/37000 [==============================] - 3s 80us/step - loss: 0.0028 - acc: 0.9994\n",
      "Epoch 49/200\n",
      "37000/37000 [==============================] - 3s 79us/step - loss: 0.0035 - acc: 0.9994\n",
      "Epoch 50/200\n",
      "37000/37000 [==============================] - 3s 78us/step - loss: 0.0034 - acc: 0.9992\n",
      "Epoch 51/200\n",
      "37000/37000 [==============================] - 3s 76us/step - loss: 0.0031 - acc: 0.9992\n",
      "Epoch 52/200\n",
      "37000/37000 [==============================] - 3s 69us/step - loss: 0.0027 - acc: 0.9994\n",
      "Epoch 53/200\n",
      "37000/37000 [==============================] - 3s 77us/step - loss: 0.0030 - acc: 0.9992\n",
      "Epoch 54/200\n",
      "37000/37000 [==============================] - 3s 76us/step - loss: 0.0038 - acc: 0.9991\n",
      "Epoch 55/200\n",
      "37000/37000 [==============================] - 3s 79us/step - loss: 0.0022 - acc: 0.9994\n",
      "Epoch 56/200\n",
      "37000/37000 [==============================] - 3s 79us/step - loss: 0.0028 - acc: 0.9993\n",
      "Epoch 57/200\n",
      "37000/37000 [==============================] - 3s 77us/step - loss: 0.0031 - acc: 0.9991\n",
      "Epoch 58/200\n",
      "37000/37000 [==============================] - 3s 74us/step - loss: 0.0035 - acc: 0.9992\n",
      "Epoch 59/200\n",
      "37000/37000 [==============================] - 3s 76us/step - loss: 0.0025 - acc: 0.9994\n",
      "Epoch 60/200\n",
      "37000/37000 [==============================] - 3s 77us/step - loss: 0.0045 - acc: 0.9989\n",
      "Epoch 61/200\n",
      "37000/37000 [==============================] - 3s 76us/step - loss: 0.0028 - acc: 0.9993\n",
      "Epoch 62/200\n",
      "37000/37000 [==============================] - 3s 75us/step - loss: 0.0050 - acc: 0.9990\n",
      "Epoch 63/200\n",
      "37000/37000 [==============================] - 3s 75us/step - loss: 0.0015 - acc: 0.9996\n",
      "Epoch 64/200\n",
      "37000/37000 [==============================] - 3s 78us/step - loss: 0.0033 - acc: 0.9994\n",
      "Epoch 65/200\n",
      "37000/37000 [==============================] - 3s 74us/step - loss: 0.0031 - acc: 0.9992\n",
      "Epoch 66/200\n",
      "37000/37000 [==============================] - 3s 75us/step - loss: 0.0036 - acc: 0.9991\n",
      "Epoch 67/200\n",
      "37000/37000 [==============================] - 3s 75us/step - loss: 0.0040 - acc: 0.9993\n",
      "Epoch 68/200\n",
      "37000/37000 [==============================] - 3s 71us/step - loss: 0.0029 - acc: 0.9995\n",
      "Epoch 69/200\n",
      "37000/37000 [==============================] - 3s 79us/step - loss: 0.0028 - acc: 0.9995\n",
      "Epoch 70/200\n",
      "37000/37000 [==============================] - 3s 78us/step - loss: 0.0039 - acc: 0.9992\n",
      "Epoch 71/200\n",
      "37000/37000 [==============================] - 3s 75us/step - loss: 0.0030 - acc: 0.9994\n",
      "Epoch 72/200\n",
      "37000/37000 [==============================] - 3s 76us/step - loss: 0.0037 - acc: 0.9992\n",
      "Epoch 73/200\n",
      "37000/37000 [==============================] - 3s 76us/step - loss: 0.0034 - acc: 0.9994\n",
      "Epoch 74/200\n",
      "37000/37000 [==============================] - 3s 74us/step - loss: 0.0024 - acc: 0.9995\n",
      "Epoch 75/200\n",
      "37000/37000 [==============================] - 3s 76us/step - loss: 0.0019 - acc: 0.9996\n",
      "Epoch 76/200\n",
      "37000/37000 [==============================] - 3s 74us/step - loss: 0.0031 - acc: 0.9993\n",
      "Epoch 77/200\n",
      "37000/37000 [==============================] - 3s 74us/step - loss: 0.0022 - acc: 0.9996\n",
      "Epoch 78/200\n",
      "37000/37000 [==============================] - 3s 78us/step - loss: 0.0021 - acc: 0.9995\n",
      "Epoch 79/200\n",
      "37000/37000 [==============================] - 3s 73us/step - loss: 0.0036 - acc: 0.9991\n",
      "Epoch 80/200\n",
      "37000/37000 [==============================] - 3s 75us/step - loss: 0.0020 - acc: 0.9997\n",
      "Epoch 81/200\n",
      "37000/37000 [==============================] - 3s 78us/step - loss: 0.0029 - acc: 0.9994\n",
      "Epoch 82/200\n",
      "37000/37000 [==============================] - 3s 76us/step - loss: 0.0020 - acc: 0.9997\n",
      "Epoch 83/200\n",
      "37000/37000 [==============================] - 3s 76us/step - loss: 0.0030 - acc: 0.9994\n",
      "Epoch 84/200\n",
      "37000/37000 [==============================] - 3s 77us/step - loss: 0.0036 - acc: 0.9993\n",
      "Epoch 85/200\n",
      "37000/37000 [==============================] - 3s 75us/step - loss: 0.0027 - acc: 0.9995\n",
      "Epoch 86/200\n",
      "37000/37000 [==============================] - 3s 73us/step - loss: 0.0016 - acc: 0.9996\n",
      "Epoch 87/200\n",
      "37000/37000 [==============================] - 3s 71us/step - loss: 0.0031 - acc: 0.9994\n",
      "Epoch 88/200\n",
      "37000/37000 [==============================] - 3s 72us/step - loss: 0.0031 - acc: 0.9994\n",
      "Epoch 89/200\n",
      "37000/37000 [==============================] - 3s 73us/step - loss: 0.0017 - acc: 0.9996\n",
      "Epoch 90/200\n",
      "37000/37000 [==============================] - 3s 73us/step - loss: 0.0031 - acc: 0.9995\n",
      "Epoch 91/200\n",
      "37000/37000 [==============================] - 3s 74us/step - loss: 0.0023 - acc: 0.9995\n",
      "Epoch 92/200\n",
      "37000/37000 [==============================] - 3s 71us/step - loss: 0.0018 - acc: 0.9996\n",
      "Epoch 93/200\n",
      "37000/37000 [==============================] - 3s 76us/step - loss: 0.0038 - acc: 0.9992\n",
      "Epoch 94/200\n",
      "37000/37000 [==============================] - 3s 70us/step - loss: 0.0021 - acc: 0.9996\n",
      "Epoch 95/200\n",
      "37000/37000 [==============================] - 3s 73us/step - loss: 0.0027 - acc: 0.9995\n",
      "Epoch 96/200\n",
      "37000/37000 [==============================] - 3s 75us/step - loss: 0.0016 - acc: 0.9997\n",
      "Epoch 97/200\n",
      "37000/37000 [==============================] - 3s 74us/step - loss: 0.0018 - acc: 0.9996\n",
      "Epoch 98/200\n",
      "37000/37000 [==============================] - 3s 73us/step - loss: 0.0016 - acc: 0.9997\n",
      "Epoch 99/200\n",
      "37000/37000 [==============================] - 3s 72us/step - loss: 0.0028 - acc: 0.9996\n",
      "Epoch 100/200\n",
      "37000/37000 [==============================] - 3s 74us/step - loss: 0.0033 - acc: 0.9994\n",
      "Epoch 101/200\n",
      "37000/37000 [==============================] - 3s 71us/step - loss: 0.0024 - acc: 0.9995\n",
      "Epoch 102/200\n",
      "37000/37000 [==============================] - 3s 73us/step - loss: 0.0016 - acc: 0.9996\n",
      "Epoch 103/200\n",
      "37000/37000 [==============================] - 3s 71us/step - loss: 0.0026 - acc: 0.9996\n",
      "Epoch 104/200\n",
      "37000/37000 [==============================] - 3s 71us/step - loss: 0.0014 - acc: 0.9997\n",
      "Epoch 105/200\n",
      "37000/37000 [==============================] - 3s 72us/step - loss: 0.0012 - acc: 0.9998\n",
      "Epoch 106/200\n",
      "37000/37000 [==============================] - 3s 73us/step - loss: 0.0012 - acc: 0.9998\n",
      "Epoch 107/200\n",
      "37000/37000 [==============================] - 3s 71us/step - loss: 0.0032 - acc: 0.9995\n",
      "Epoch 108/200\n",
      "37000/37000 [==============================] - 3s 78us/step - loss: 0.0018 - acc: 0.9997\n",
      "Epoch 109/200\n",
      "37000/37000 [==============================] - 3s 77us/step - loss: 0.0033 - acc: 0.9995\n",
      "Epoch 110/200\n",
      "37000/37000 [==============================] - 3s 78us/step - loss: 0.0023 - acc: 0.9996\n",
      "Epoch 111/200\n",
      "37000/37000 [==============================] - 3s 76us/step - loss: 0.0023 - acc: 0.9996\n",
      "Epoch 112/200\n",
      "37000/37000 [==============================] - 3s 75us/step - loss: 0.0015 - acc: 0.9998\n",
      "Epoch 113/200\n",
      "37000/37000 [==============================] - 3s 75us/step - loss: 0.0023 - acc: 0.9997\n",
      "Epoch 114/200\n",
      "37000/37000 [==============================] - 3s 74us/step - loss: 0.0027 - acc: 0.9995\n",
      "Epoch 115/200\n",
      "37000/37000 [==============================] - 3s 73us/step - loss: 0.0030 - acc: 0.9994\n",
      "Epoch 116/200\n",
      "37000/37000 [==============================] - 3s 74us/step - loss: 0.0025 - acc: 0.9997\n",
      "Epoch 117/200\n",
      "37000/37000 [==============================] - 3s 75us/step - loss: 0.0030 - acc: 0.9994\n",
      "Epoch 118/200\n",
      "37000/37000 [==============================] - 3s 74us/step - loss: 0.0021 - acc: 0.9996\n",
      "Epoch 119/200\n",
      "37000/37000 [==============================] - 3s 75us/step - loss: 0.0026 - acc: 0.9995\n",
      "Epoch 120/200\n",
      "37000/37000 [==============================] - 3s 69us/step - loss: 0.0026 - acc: 0.9995\n",
      "Epoch 121/200\n",
      "37000/37000 [==============================] - 3s 71us/step - loss: 0.0020 - acc: 0.9996\n",
      "Epoch 122/200\n",
      "37000/37000 [==============================] - 3s 73us/step - loss: 0.0016 - acc: 0.9998\n",
      "Epoch 123/200\n",
      "37000/37000 [==============================] - 3s 71us/step - loss: 0.0037 - acc: 0.9994\n",
      "Epoch 124/200\n",
      "37000/37000 [==============================] - 3s 73us/step - loss: 0.0019 - acc: 0.9996\n",
      "Epoch 125/200\n",
      "37000/37000 [==============================] - 3s 70us/step - loss: 0.0015 - acc: 0.9997\n",
      "Epoch 126/200\n",
      "37000/37000 [==============================] - 3s 73us/step - loss: 0.0017 - acc: 0.9998\n",
      "Epoch 127/200\n",
      "37000/37000 [==============================] - 3s 74us/step - loss: 0.0023 - acc: 0.9995\n",
      "Epoch 128/200\n",
      "37000/37000 [==============================] - 3s 72us/step - loss: 0.0024 - acc: 0.9996\n",
      "Epoch 129/200\n",
      "37000/37000 [==============================] - 3s 73us/step - loss: 0.0017 - acc: 0.9997\n",
      "Epoch 130/200\n",
      "37000/37000 [==============================] - 3s 72us/step - loss: 0.0021 - acc: 0.9996\n",
      "Epoch 131/200\n",
      "37000/37000 [==============================] - 3s 75us/step - loss: 0.0022 - acc: 0.9997\n",
      "Epoch 132/200\n",
      "37000/37000 [==============================] - 3s 72us/step - loss: 0.0028 - acc: 0.9996\n",
      "Epoch 133/200\n",
      "37000/37000 [==============================] - 3s 75us/step - loss: 0.0011 - acc: 0.9997\n",
      "Epoch 134/200\n",
      "37000/37000 [==============================] - 3s 73us/step - loss: 0.0018 - acc: 0.9997\n",
      "Epoch 135/200\n",
      "37000/37000 [==============================] - 3s 74us/step - loss: 0.0019 - acc: 0.9998\n",
      "Epoch 136/200\n",
      "37000/37000 [==============================] - 3s 71us/step - loss: 0.0021 - acc: 0.9996\n",
      "Epoch 137/200\n",
      "37000/37000 [==============================] - 3s 69us/step - loss: 8.4796e-04 - acc: 0.9998\n",
      "Epoch 138/200\n",
      "37000/37000 [==============================] - 3s 72us/step - loss: 0.0030 - acc: 0.9996\n",
      "Epoch 139/200\n",
      "37000/37000 [==============================] - 3s 75us/step - loss: 0.0019 - acc: 0.9997\n",
      "Epoch 140/200\n",
      "37000/37000 [==============================] - 3s 73us/step - loss: 0.0022 - acc: 0.9995\n",
      "Epoch 141/200\n",
      "37000/37000 [==============================] - 3s 73us/step - loss: 0.0027 - acc: 0.9996\n",
      "Epoch 142/200\n",
      "37000/37000 [==============================] - 3s 74us/step - loss: 0.0029 - acc: 0.9996\n",
      "Epoch 143/200\n",
      "37000/37000 [==============================] - 3s 73us/step - loss: 0.0017 - acc: 0.9997\n",
      "Epoch 144/200\n",
      "37000/37000 [==============================] - 3s 75us/step - loss: 0.0021 - acc: 0.9996\n",
      "Epoch 145/200\n",
      "37000/37000 [==============================] - 3s 74us/step - loss: 0.0027 - acc: 0.9996\n",
      "Epoch 146/200\n",
      "37000/37000 [==============================] - 3s 74us/step - loss: 0.0029 - acc: 0.9996\n",
      "Epoch 147/200\n",
      "37000/37000 [==============================] - 3s 70us/step - loss: 9.2120e-04 - acc: 0.9998\n",
      "Epoch 148/200\n",
      "37000/37000 [==============================] - 3s 70us/step - loss: 0.0035 - acc: 0.9994\n",
      "Epoch 149/200\n",
      "37000/37000 [==============================] - 3s 71us/step - loss: 0.0015 - acc: 0.9998\n",
      "Epoch 150/200\n",
      "37000/37000 [==============================] - 3s 71us/step - loss: 0.0021 - acc: 0.9995\n",
      "Epoch 151/200\n",
      "37000/37000 [==============================] - 3s 71us/step - loss: 0.0020 - acc: 0.9997\n",
      "Epoch 152/200\n",
      "37000/37000 [==============================] - 3s 73us/step - loss: 0.0015 - acc: 0.9998\n",
      "Epoch 153/200\n",
      "37000/37000 [==============================] - 3s 71us/step - loss: 0.0025 - acc: 0.9996\n",
      "Epoch 154/200\n",
      "37000/37000 [==============================] - 3s 73us/step - loss: 0.0029 - acc: 0.9996\n",
      "Epoch 155/200\n",
      "37000/37000 [==============================] - 3s 73us/step - loss: 0.0026 - acc: 0.9996\n",
      "Epoch 156/200\n",
      "37000/37000 [==============================] - 3s 75us/step - loss: 0.0010 - acc: 0.9998\n",
      "Epoch 157/200\n",
      "37000/37000 [==============================] - 3s 71us/step - loss: 0.0014 - acc: 0.9998\n",
      "Epoch 158/200\n",
      "37000/37000 [==============================] - 3s 74us/step - loss: 0.0017 - acc: 0.9998\n",
      "Epoch 159/200\n",
      "37000/37000 [==============================] - 3s 75us/step - loss: 0.0030 - acc: 0.9994\n",
      "Epoch 160/200\n"
     ]
    },
    {
     "name": "stdout",
     "output_type": "stream",
     "text": [
      "37000/37000 [==============================] - 3s 77us/step - loss: 0.0024 - acc: 0.9995\n",
      "Epoch 161/200\n",
      "37000/37000 [==============================] - 3s 75us/step - loss: 0.0026 - acc: 0.9996\n",
      "Epoch 162/200\n",
      "37000/37000 [==============================] - 3s 75us/step - loss: 0.0017 - acc: 0.9998\n",
      "Epoch 163/200\n",
      "37000/37000 [==============================] - 3s 73us/step - loss: 0.0016 - acc: 0.9997\n",
      "Epoch 164/200\n",
      "37000/37000 [==============================] - 3s 71us/step - loss: 0.0024 - acc: 0.9996\n",
      "Epoch 165/200\n",
      "37000/37000 [==============================] - 3s 69us/step - loss: 0.0028 - acc: 0.9995\n",
      "Epoch 166/200\n",
      "37000/37000 [==============================] - 3s 71us/step - loss: 0.0036 - acc: 0.9995\n",
      "Epoch 167/200\n",
      "37000/37000 [==============================] - 3s 75us/step - loss: 0.0017 - acc: 0.9998\n",
      "Epoch 168/200\n",
      "37000/37000 [==============================] - 3s 72us/step - loss: 0.0029 - acc: 0.9996\n",
      "Epoch 169/200\n",
      "37000/37000 [==============================] - 3s 76us/step - loss: 0.0039 - acc: 0.9995\n",
      "Epoch 170/200\n",
      "37000/37000 [==============================] - 3s 74us/step - loss: 0.0031 - acc: 0.9995\n",
      "Epoch 171/200\n",
      "37000/37000 [==============================] - 3s 72us/step - loss: 0.0016 - acc: 0.9997\n",
      "Epoch 172/200\n",
      "37000/37000 [==============================] - 3s 76us/step - loss: 0.0025 - acc: 0.9996\n",
      "Epoch 173/200\n",
      "37000/37000 [==============================] - 3s 75us/step - loss: 0.0012 - acc: 0.9998\n",
      "Epoch 174/200\n",
      "37000/37000 [==============================] - 3s 75us/step - loss: 0.0016 - acc: 0.9998\n",
      "Epoch 175/200\n",
      "37000/37000 [==============================] - 3s 74us/step - loss: 0.0013 - acc: 0.9998\n",
      "Epoch 176/200\n",
      "37000/37000 [==============================] - 3s 74us/step - loss: 0.0015 - acc: 0.9998\n",
      "Epoch 177/200\n",
      "37000/37000 [==============================] - 3s 71us/step - loss: 0.0014 - acc: 0.9998\n",
      "Epoch 178/200\n",
      "37000/37000 [==============================] - 3s 73us/step - loss: 0.0021 - acc: 0.9997\n",
      "Epoch 179/200\n",
      "37000/37000 [==============================] - 3s 71us/step - loss: 0.0040 - acc: 0.9995\n",
      "Epoch 180/200\n",
      "37000/37000 [==============================] - 3s 73us/step - loss: 0.0010 - acc: 0.9999\n",
      "Epoch 181/200\n",
      "37000/37000 [==============================] - 3s 72us/step - loss: 0.0012 - acc: 0.9999\n",
      "Epoch 182/200\n",
      "37000/37000 [==============================] - 3s 73us/step - loss: 0.0020 - acc: 0.9997\n",
      "Epoch 183/200\n",
      "37000/37000 [==============================] - 3s 68us/step - loss: 0.0014 - acc: 0.9998\n",
      "Epoch 184/200\n",
      "37000/37000 [==============================] - 3s 73us/step - loss: 0.0034 - acc: 0.9995\n",
      "Epoch 185/200\n",
      "37000/37000 [==============================] - 3s 75us/step - loss: 0.0022 - acc: 0.9998\n",
      "Epoch 186/200\n",
      "37000/37000 [==============================] - 3s 74us/step - loss: 0.0021 - acc: 0.9997\n",
      "Epoch 187/200\n",
      "37000/37000 [==============================] - 3s 73us/step - loss: 0.0022 - acc: 0.9997\n",
      "Epoch 188/200\n",
      "37000/37000 [==============================] - 3s 73us/step - loss: 0.0021 - acc: 0.9997\n",
      "Epoch 189/200\n",
      "37000/37000 [==============================] - 3s 72us/step - loss: 0.0018 - acc: 0.9997\n",
      "Epoch 190/200\n",
      "37000/37000 [==============================] - 3s 73us/step - loss: 0.0012 - acc: 0.9998\n",
      "Epoch 191/200\n",
      "37000/37000 [==============================] - 3s 72us/step - loss: 0.0033 - acc: 0.9995\n",
      "Epoch 192/200\n",
      "37000/37000 [==============================] - 3s 72us/step - loss: 0.0024 - acc: 0.9997\n",
      "Epoch 193/200\n",
      "37000/37000 [==============================] - 3s 75us/step - loss: 0.0018 - acc: 0.9998\n",
      "Epoch 194/200\n",
      "37000/37000 [==============================] - 3s 76us/step - loss: 0.0013 - acc: 0.9998\n",
      "Epoch 195/200\n",
      "37000/37000 [==============================] - 3s 73us/step - loss: 9.0628e-04 - acc: 0.9998\n",
      "Epoch 196/200\n",
      "37000/37000 [==============================] - 3s 72us/step - loss: 0.0011 - acc: 0.9999\n",
      "Epoch 197/200\n",
      "37000/37000 [==============================] - 3s 72us/step - loss: 8.1739e-04 - acc: 0.9999\n",
      "Epoch 198/200\n",
      "37000/37000 [==============================] - 3s 74us/step - loss: 0.0020 - acc: 0.9998\n",
      "Epoch 199/200\n",
      "37000/37000 [==============================] - 3s 75us/step - loss: 5.9028e-04 - acc: 0.9999\n",
      "Epoch 200/200\n",
      "37000/37000 [==============================] - 3s 75us/step - loss: 0.0013 - acc: 0.9998\n"
     ]
    }
   ],
   "source": [
    "# Write the Training input and output variables, size of the batch, number of epochs\n",
    "epochs = 200\n",
    "batch_size = 128\n",
    "history = model.fit(X_train,Y_train,\n",
    "                    batch_size=batch_size,\n",
    "                    epochs=epochs,\n",
    "                    verbose=1)\n"
   ]
  },
  {
   "cell_type": "markdown",
   "metadata": {},
   "source": [
    "### Testing"
   ]
  },
  {
   "cell_type": "code",
   "execution_count": 13,
   "metadata": {},
   "outputs": [
    {
     "name": "stdout",
     "output_type": "stream",
     "text": [
      "Test loss: 0.316402275296855\n",
      "Test accuracy: 0.976\n"
     ]
    }
   ],
   "source": [
    "# Write the testing input and output variables\n",
    "score = model.evaluate(X_valid, Y_valid, verbose=0)\n",
    "print('Test loss:', score[0])\n",
    "print('Test accuracy:', score[1])\n"
   ]
  },
  {
   "cell_type": "code",
   "execution_count": 15,
   "metadata": {},
   "outputs": [
    {
     "data": {
      "text/plain": [
       "array([[0.0649393 , 0.13303621, 0.16530864, ..., 0.03479178, 0.07656142,\n",
       "        0.05339568],\n",
       "       [0.06454037, 0.1279196 , 0.16878247, ..., 0.03506781, 0.0785181 ,\n",
       "        0.05400655],\n",
       "       [0.0628479 , 0.12590176, 0.16568094, ..., 0.03427208, 0.08025961,\n",
       "        0.05196222],\n",
       "       ...,\n",
       "       [0.06263509, 0.12380597, 0.1689161 , ..., 0.03579636, 0.07838753,\n",
       "        0.05441868],\n",
       "       [0.06560657, 0.1263336 , 0.16999875, ..., 0.03286351, 0.08000905,\n",
       "        0.05399113],\n",
       "       [0.06509314, 0.1333632 , 0.1651632 , ..., 0.03426728, 0.0776182 ,\n",
       "        0.0531764 ]], dtype=float32)"
      ]
     },
     "execution_count": 15,
     "metadata": {},
     "output_type": "execute_result"
    }
   ],
   "source": [
    "prediction = model.predict(test)\n",
    "prediction"
   ]
  },
  {
   "cell_type": "code",
   "execution_count": 16,
   "metadata": {},
   "outputs": [],
   "source": [
    "result = np.argmax(prediction,axis=1)"
   ]
  },
  {
   "cell_type": "code",
   "execution_count": 17,
   "metadata": {},
   "outputs": [],
   "source": [
    "np.savetxt('result_DL_200_2.csv',\n",
    "          np.c_[range(1,len(test) + 1),result],\n",
    "          delimiter=',',\n",
    "            header='ImageId,Label',\n",
    "           comments='',\n",
    "          fmt='%d')"
   ]
  },
  {
   "cell_type": "markdown",
   "metadata": {},
   "source": [
    "#### Kaggle Accuracy : 9.614 so you can see the overfitting problem here, machine got 99.98 in training data where as very poor in test data"
   ]
  },
  {
   "cell_type": "markdown",
   "metadata": {},
   "source": [
    "### CNN"
   ]
  },
  {
   "cell_type": "code",
   "execution_count": 38,
   "metadata": {},
   "outputs": [],
   "source": [
    "from keras.layers import Dense, Dropout, Flatten, Conv2D, MaxPooling2D\n",
    "from keras import backend as K\n",
    "from keras.preprocessing import image\n",
    "from keras.applications.mobilenet import MobileNet\n",
    "from keras.applications.xception import Xception\n",
    "from keras.applications.vgg16 import preprocess_input, decode_predictions\n",
    "from keras.models import Model\n",
    "from keras.optimizers import RMSprop\n",
    "from keras.preprocessing.image import ImageDataGenerator\n",
    "from keras.callbacks import ReduceLROnPlateau"
   ]
  },
  {
   "cell_type": "markdown",
   "metadata": {},
   "source": [
    "#### Building a model"
   ]
  },
  {
   "cell_type": "code",
   "execution_count": 39,
   "metadata": {},
   "outputs": [],
   "source": [
    "# input image dimensions\n",
    "img_rows, img_cols = 28, 28\n",
    "X_train = X_train.as_matrix()\n",
    "X_valid = X_valid.as_matrix()\n",
    "test = test.as_matrix()\n",
    "if K.image_data_format() == 'channels_first':\n",
    "    X_train = X_train.reshape(X_train.shape[0], 1, img_rows, img_cols)\n",
    "    X_valid = X_valid.reshape(X_valid.shape[0], 1, img_rows, img_cols)\n",
    "    test =  test.reshape(test.shape[0], 1, img_rows, img_cols)\n",
    "    input_shape = (1, img_rows, img_cols)\n",
    "else:\n",
    "    X_train = X_train.reshape(X_train.shape[0], img_rows, img_cols, 1)\n",
    "    X_valid = X_valid.reshape(X_valid.shape[0], img_rows, img_cols, 1)\n",
    "    test = test.reshape(test.shape[0], img_rows, img_cols, 1)\n",
    "    input_shape = (img_rows, img_cols, 1)\n",
    "    \n",
    "X_train = X_train.astype('float32')\n",
    "X_valid = X_valid.astype('float32')\n",
    "X_train /= 255\n",
    "X_valid /= 255\n",
    "# test /= 255\n"
   ]
  },
  {
   "cell_type": "code",
   "execution_count": 40,
   "metadata": {},
   "outputs": [],
   "source": [
    "test = test.astype('float32')\n",
    "test /= 255"
   ]
  },
  {
   "cell_type": "code",
   "execution_count": 45,
   "metadata": {},
   "outputs": [
    {
     "name": "stdout",
     "output_type": "stream",
     "text": [
      "_________________________________________________________________\n",
      "Layer (type)                 Output Shape              Param #   \n",
      "=================================================================\n",
      "conv2d_10 (Conv2D)           (None, 26, 26, 60)        600       \n",
      "_________________________________________________________________\n",
      "conv2d_11 (Conv2D)           (None, 24, 24, 52)        28132     \n",
      "_________________________________________________________________\n",
      "max_pooling2d_7 (MaxPooling2 (None, 12, 12, 52)        0         \n",
      "_________________________________________________________________\n",
      "conv2d_12 (Conv2D)           (None, 10, 10, 16)        7504      \n",
      "_________________________________________________________________\n",
      "max_pooling2d_8 (MaxPooling2 (None, 5, 5, 16)          0         \n",
      "_________________________________________________________________\n",
      "dropout_7 (Dropout)          (None, 5, 5, 16)          0         \n",
      "_________________________________________________________________\n",
      "flatten_4 (Flatten)          (None, 400)               0         \n",
      "_________________________________________________________________\n",
      "dense_7 (Dense)              (None, 32)                12832     \n",
      "_________________________________________________________________\n",
      "dropout_8 (Dropout)          (None, 32)                0         \n",
      "_________________________________________________________________\n",
      "dense_8 (Dense)              (None, 10)                330       \n",
      "=================================================================\n",
      "Total params: 49,398\n",
      "Trainable params: 49,398\n",
      "Non-trainable params: 0\n",
      "_________________________________________________________________\n"
     ]
    }
   ],
   "source": [
    "model = Sequential()\n",
    "model.add(Conv2D(60, kernel_size=(3, 3), activation='relu', input_shape=input_shape))\n",
    "model.add(Conv2D(52, kernel_size=(3, 3), activation='relu', input_shape=input_shape))\n",
    "model.add(MaxPooling2D(pool_size=(2, 2)))\n",
    "model.add(Conv2D(16, (3, 3), activation='relu'))\n",
    "model.add(MaxPooling2D(pool_size=(2, 2)))\n",
    "model.add(Dropout(0.25))\n",
    "model.add(Flatten())\n",
    "model.add(Dense(32, activation='relu'))\n",
    "model.add(Dropout(0.25))\n",
    "model.add(Dense(num_classes, activation='softmax'))\n",
    "model.summary()"
   ]
  },
  {
   "cell_type": "code",
   "execution_count": 46,
   "metadata": {},
   "outputs": [],
   "source": [
    "batch_size =128\n",
    "epochs = 50"
   ]
  },
  {
   "cell_type": "code",
   "execution_count": 47,
   "metadata": {},
   "outputs": [],
   "source": [
    "model.compile(loss=keras.losses.categorical_crossentropy,\n",
    "              optimizer=keras.optimizers.Adadelta(),\n",
    "              metrics=['accuracy'])"
   ]
  },
  {
   "cell_type": "code",
   "execution_count": 25,
   "metadata": {},
   "outputs": [],
   "source": [
    "# Set a learning rate annealer\n",
    "learning_rate_reduction = ReduceLROnPlateau(monitor='val_acc', \n",
    "                                            patience=3, \n",
    "                                            verbose=1, \n",
    "                                            factor=0.5, \n",
    "                                            min_lr=0.00001)"
   ]
  },
  {
   "cell_type": "code",
   "execution_count": 51,
   "metadata": {},
   "outputs": [
    {
     "name": "stdout",
     "output_type": "stream",
     "text": [
      "Train on 29200 samples, validate on 12800 samples\n",
      "Epoch 1/10\n",
      "29200/29200 [==============================] - 177s 6ms/step - loss: 0.0468 - acc: 0.9846 - val_loss: 0.0347 - val_acc: 0.9899\n",
      "Epoch 2/10\n",
      "29200/29200 [==============================] - 178s 6ms/step - loss: 0.0472 - acc: 0.9849 - val_loss: 0.0341 - val_acc: 0.9901\n",
      "Epoch 3/10\n",
      "29200/29200 [==============================] - 174s 6ms/step - loss: 0.0443 - acc: 0.9863 - val_loss: 0.0345 - val_acc: 0.9903\n",
      "Epoch 4/10\n",
      "29200/29200 [==============================] - 172s 6ms/step - loss: 0.0459 - acc: 0.9859 - val_loss: 0.0311 - val_acc: 0.9916\n",
      "Epoch 5/10\n",
      "29200/29200 [==============================] - 179s 6ms/step - loss: 0.0451 - acc: 0.9851 - val_loss: 0.0338 - val_acc: 0.9909\n",
      "Epoch 6/10\n",
      "29200/29200 [==============================] - 181s 6ms/step - loss: 0.0409 - acc: 0.9865 - val_loss: 0.0383 - val_acc: 0.9880\n",
      "Epoch 7/10\n",
      "29200/29200 [==============================] - 182s 6ms/step - loss: 0.0429 - acc: 0.9862 - val_loss: 0.0337 - val_acc: 0.9910\n",
      "Epoch 8/10\n",
      "29200/29200 [==============================] - 181s 6ms/step - loss: 0.0407 - acc: 0.9874 - val_loss: 0.0310 - val_acc: 0.9920\n",
      "Epoch 9/10\n",
      "29200/29200 [==============================] - 180s 6ms/step - loss: 0.0405 - acc: 0.9870 - val_loss: 0.0336 - val_acc: 0.9912\n",
      "Epoch 10/10\n",
      "29200/29200 [==============================] - 176s 6ms/step - loss: 0.0412 - acc: 0.9870 - val_loss: 0.0318 - val_acc: 0.9917\n"
     ]
    }
   ],
   "source": [
    "model1 = model.fit(X_train, Y_train,\n",
    "          batch_size=batch_size,\n",
    "          epochs=10,\n",
    "          validation_data=(X_valid, Y_valid))"
   ]
  },
  {
   "cell_type": "code",
   "execution_count": 16,
   "metadata": {},
   "outputs": [
    {
     "name": "stdout",
     "output_type": "stream",
     "text": [
      "Test loss: 0.048429201680528756\n",
      "Test accuracy: 0.9864444444444445\n"
     ]
    }
   ],
   "source": [
    "score = model.evaluate(X_valid, Y_valid, verbose=0)\n",
    "print('Test loss:', score[0])\n",
    "print('Test accuracy:', score[1])"
   ]
  },
  {
   "cell_type": "code",
   "execution_count": 18,
   "metadata": {},
   "outputs": [
    {
     "data": {
      "text/plain": [
       "array([[3.5423140e-11, 5.2639473e-11, 1.0000000e+00, ..., 3.3016221e-08,\n",
       "        4.0689610e-10, 1.6608966e-17],\n",
       "       [9.9999964e-01, 2.9647921e-15, 7.2439502e-12, ..., 4.4312408e-11,\n",
       "        4.4297241e-09, 4.7521103e-09],\n",
       "       [1.0909784e-08, 3.3792379e-08, 1.1246973e-07, ..., 6.5766194e-06,\n",
       "        2.9091959e-04, 9.8566979e-01],\n",
       "       ...,\n",
       "       [3.2445427e-18, 2.1526602e-13, 1.1860770e-11, ..., 7.4145345e-10,\n",
       "        7.0344819e-14, 1.6667405e-09],\n",
       "       [3.7013278e-11, 1.6623244e-12, 7.3022643e-11, ..., 3.0443812e-06,\n",
       "        3.8907974e-08, 9.9981731e-01],\n",
       "       [1.3704390e-09, 8.4172183e-11, 9.9999976e-01, ..., 7.9215823e-08,\n",
       "        7.0015680e-08, 1.4382923e-15]], dtype=float32)"
      ]
     },
     "execution_count": 18,
     "metadata": {},
     "output_type": "execute_result"
    }
   ],
   "source": [
    "test\n",
    "prediction = model.predict(test)\n",
    "prediction"
   ]
  },
  {
   "cell_type": "code",
   "execution_count": 60,
   "metadata": {},
   "outputs": [],
   "source": [
    "result = np.argmax(prediction,axis=1)"
   ]
  },
  {
   "cell_type": "markdown",
   "metadata": {},
   "source": [
    "### Data augmentation"
   ]
  },
  {
   "cell_type": "code",
   "execution_count": 52,
   "metadata": {},
   "outputs": [],
   "source": [
    "datagen = ImageDataGenerator(\n",
    "        featurewise_center=False,  # set input mean to 0 over the dataset\n",
    "        samplewise_center=False,  # set each sample mean to 0\n",
    "        featurewise_std_normalization=False,  # divide inputs by std of the dataset\n",
    "        samplewise_std_normalization=False,  # divide each input by its std\n",
    "        zca_whitening=False,  # apply ZCA whitening\n",
    "        rotation_range=10,  # randomly rotate images in the range (degrees, 0 to 180)\n",
    "        zoom_range = 0.1, # Randomly zoom image \n",
    "        width_shift_range=0.1,  # randomly shift images horizontally (fraction of total width)\n",
    "        height_shift_range=0.1,  # randomly shift images vertically (fraction of total height)\n",
    "        horizontal_flip=False,  # randomly flip images\n",
    "        vertical_flip=False)  # randomly flip images\n",
    "\n",
    "\n",
    "datagen.fit(X_train)"
   ]
  },
  {
   "cell_type": "code",
   "execution_count": 53,
   "metadata": {},
   "outputs": [
    {
     "name": "stdout",
     "output_type": "stream",
     "text": [
      "Epoch 1/10\n",
      "228/228 [==============================] - 175s 769ms/step - loss: 0.2688 - acc: 0.9171 - val_loss: 0.0313 - val_acc: 0.9912\n",
      "Epoch 2/10\n",
      "228/228 [==============================] - 179s 785ms/step - loss: 0.2090 - acc: 0.9377 - val_loss: 0.0343 - val_acc: 0.9901\n",
      "Epoch 3/10\n",
      "228/228 [==============================] - 176s 773ms/step - loss: 0.1929 - acc: 0.9414 - val_loss: 0.0355 - val_acc: 0.9899\n",
      "Epoch 4/10\n",
      "228/228 [==============================] - 179s 785ms/step - loss: 0.1780 - acc: 0.9446 - val_loss: 0.0324 - val_acc: 0.9905\n",
      "Epoch 5/10\n",
      "228/228 [==============================] - 174s 764ms/step - loss: 0.1682 - acc: 0.9503 - val_loss: 0.0461 - val_acc: 0.9866\n",
      "Epoch 6/10\n",
      "228/228 [==============================] - 174s 765ms/step - loss: 0.1610 - acc: 0.9520 - val_loss: 0.0321 - val_acc: 0.9912\n",
      "Epoch 7/10\n",
      "228/228 [==============================] - 175s 766ms/step - loss: 0.1534 - acc: 0.9532 - val_loss: 0.0365 - val_acc: 0.9888\n",
      "Epoch 8/10\n",
      "228/228 [==============================] - 174s 764ms/step - loss: 0.1438 - acc: 0.9578 - val_loss: 0.0347 - val_acc: 0.9900\n",
      "Epoch 9/10\n",
      "228/228 [==============================] - 177s 775ms/step - loss: 0.1436 - acc: 0.9552 - val_loss: 0.0315 - val_acc: 0.9909\n",
      "Epoch 10/10\n",
      "228/228 [==============================] - 181s 795ms/step - loss: 0.1393 - acc: 0.9591 - val_loss: 0.0320 - val_acc: 0.9907\n"
     ]
    },
    {
     "data": {
      "text/plain": [
       "<keras.callbacks.History at 0x7fa945880438>"
      ]
     },
     "execution_count": 53,
     "metadata": {},
     "output_type": "execute_result"
    }
   ],
   "source": [
    "model1.model.fit_generator(datagen.flow(X_train,Y_train, batch_size=batch_size),\n",
    "                              epochs = 10, validation_data = (X_valid,Y_valid),\n",
    "                              verbose = 1, steps_per_epoch=X_train.shape[0] // batch_size)"
   ]
  },
  {
   "cell_type": "code",
   "execution_count": 19,
   "metadata": {},
   "outputs": [],
   "source": [
    "prediction = model.predict(test)"
   ]
  },
  {
   "cell_type": "code",
   "execution_count": 20,
   "metadata": {},
   "outputs": [],
   "source": [
    "result = np.argmax(prediction,axis=1)"
   ]
  },
  {
   "cell_type": "code",
   "execution_count": 21,
   "metadata": {},
   "outputs": [],
   "source": [
    "np.savetxt('result_DLCNN_AUG_L40.csv',\n",
    "          np.c_[range(1,len(test) + 1),result],\n",
    "          delimiter=',',\n",
    "            header='ImageId,Label',\n",
    "           comments='',\n",
    "          fmt='%d')"
   ]
  },
  {
   "cell_type": "markdown",
   "metadata": {},
   "source": [
    "#### Kaggle Accuracy : 99.285"
   ]
  }
 ],
 "metadata": {
  "kernelspec": {
   "display_name": "Python 3",
   "language": "python",
   "name": "python3"
  },
  "language_info": {
   "codemirror_mode": {
    "name": "ipython",
    "version": 3
   },
   "file_extension": ".py",
   "mimetype": "text/x-python",
   "name": "python",
   "nbconvert_exporter": "python",
   "pygments_lexer": "ipython3",
   "version": "3.6.6"
  }
 },
 "nbformat": 4,
 "nbformat_minor": 2
}
